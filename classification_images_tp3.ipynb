{
 "cells": [
  {
   "attachments": {},
   "cell_type": "markdown",
   "metadata": {},
   "source": [
    "# Devoir 3 - Classification images\n",
    "## INF889G - Vision par ordinateur"
   ]
  },
  {
   "attachments": {},
   "cell_type": "markdown",
   "metadata": {},
   "source": [
    "### Romain Pajean (PAJR77270104) - Edgardo Cuellar Sanchez (CUEE68350007)"
   ]
  },
  {
   "attachments": {},
   "cell_type": "markdown",
   "metadata": {},
   "source": [
    "### Exercice 1:  Création d’un ensemble de données"
   ]
  },
  {
   "attachments": {},
   "cell_type": "markdown",
   "metadata": {},
   "source": [
    "Alors nos données sont des bonbons haribo\n",
    " et genre j'ai juste tapé haribo \"nom du bonbon\" dans google image et j'ai pris 12 images qui representait bien le bonbon."
   ]
  },
  {
   "attachments": {},
   "cell_type": "markdown",
   "metadata": {},
   "source": [
    "J'ai aussi fait un pretraitement en réduisant la taille des images en 128x128"
   ]
  }
 ],
 "metadata": {
  "language_info": {
   "name": "python"
  },
  "orig_nbformat": 4
 },
 "nbformat": 4,
 "nbformat_minor": 2
}
